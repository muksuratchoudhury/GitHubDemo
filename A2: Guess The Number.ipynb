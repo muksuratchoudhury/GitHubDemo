{
 "cells": [
  {
   "cell_type": "code",
   "execution_count": null,
   "metadata": {},
   "outputs": [],
   "source": [
    "## This project uses the random module in Python.\n",
    "# The program will first randomly generate a number unknown to the user.\n",
    "# The user needs to guess what that number is. (In other words, the user needs to be able to input information.)\n",
    "# If the user’s guess is wrong, the program should return some sort of indication as to how wrong\n",
    "# (e.g. The number is too high or too low). If the user guesses correctly, a positive indication should appear.\n",
    "# You’ll need functions to check if the user input is an actual number, to see the difference between the inputted number\n",
    "# and the randomly generated numbers, and to then compare the numbers.\n",
    "\n",
    "## Concepts to keep in mind:\n",
    "# ● Random function\n",
    "# ● Variables\n",
    "# ● Integers\n",
    "# ● Input/Output\n",
    "# ● Print\n",
    "# ● While loops\n",
    "# ● If/Else statements"
   ]
  },
  {
   "cell_type": "code",
   "execution_count": 10,
   "metadata": {},
   "outputs": [
    {
     "name": "stdout",
     "output_type": "stream",
     "text": [
      "The correct number is 28\n"
     ]
    }
   ],
   "source": [
    "input(\"Please guess a number between 1 and 100\")\n",
    "\n",
    "import random\n",
    "number = random.randint(1,100)\n",
    "print(\"The correct number is\", number)\n"
   ]
  },
  {
   "cell_type": "code",
   "execution_count": 17,
   "metadata": {},
   "outputs": [
    {
     "name": "stdout",
     "output_type": "stream",
     "text": [
      "Your guess is too high\n",
      "Your guess is too high\n",
      "Your guess is too high\n",
      "You guessed correct! 10 is the answer\n"
     ]
    }
   ],
   "source": [
    "import random\n",
    "\n",
    "number = random.randint(1,100)\n",
    "guess = int(input(\"Please guess a number between 1 and 100\"))\n",
    "\n",
    "while True:\n",
    "    if guess < number:\n",
    "        print(\"Your guess is too low\")\n",
    "        guess = int(input(\"Please guess a number between 1 and 100 again\"))\n",
    "    elif guess > number:\n",
    "        print(\"Your guess is too high\")\n",
    "        guess = int(input(\"Please guess a number between 1 and 100 again\"))\n",
    "    else:\n",
    "        print(\"You guessed correct!\", number, \"is the answer.\")\n",
    "        break\n",
    "\n",
    "\n"
   ]
  }
 ],
 "metadata": {
  "kernelspec": {
   "display_name": "Python 3",
   "language": "python",
   "name": "python3"
  },
  "language_info": {
   "codemirror_mode": {
    "name": "ipython",
    "version": 3
   },
   "file_extension": ".py",
   "mimetype": "text/x-python",
   "name": "python",
   "nbconvert_exporter": "python",
   "pygments_lexer": "ipython3",
   "version": "3.11.0"
  },
  "orig_nbformat": 4,
  "vscode": {
   "interpreter": {
    "hash": "aee8b7b246df8f9039afb4144a1f6fd8d2ca17a180786b69acc140d282b71a49"
   }
  }
 },
 "nbformat": 4,
 "nbformat_minor": 2
}
