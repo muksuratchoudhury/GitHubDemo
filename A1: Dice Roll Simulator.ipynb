{
 "cells": [
  {
   "cell_type": "code",
   "execution_count": null,
   "metadata": {},
   "outputs": [],
   "source": [
    "## The Goal of this project, like the title suggests, involves writing a program that simulates rolling a dice.\n",
    "# When the program runs, it will randomly choose a number between 1 and 6. (Or whatever other integer you prefer\n",
    "# — the number of sides on the die is up to you.) The program will print what that number is.\n",
    "# It should then ask you if you’d like to roll again. For this project, you’ll need to set the min and max number\n",
    "# that your dice can produce. For the average die, that means a minimum of 1 and a maximum of 6. You’ll also want a\n",
    "# function that randomly grabs a number within that range and prints it.\n",
    "\n",
    "## Concepts to keep in mind:\n",
    "# ● Random\n",
    "# ● Integer\n",
    "# ● Print\n",
    "# ● While Loops"
   ]
  },
  {
   "cell_type": "code",
   "execution_count": null,
   "metadata": {},
   "outputs": [
    {
     "name": "stdout",
     "output_type": "stream",
     "text": [
      "[1, 2, 3, 4, 5, 6]\n"
     ]
    }
   ],
   "source": [
    "dice = [1,2,3,4,5,6]\n",
    "print(dice)"
   ]
  },
  {
   "cell_type": "code",
   "execution_count": 12,
   "metadata": {},
   "outputs": [
    {
     "name": "stdout",
     "output_type": "stream",
     "text": [
      "6\n"
     ]
    }
   ],
   "source": [
    "import random\n",
    "roll = random.randint(1,6)\n",
    "print(roll)"
   ]
  },
  {
   "cell_type": "code",
   "execution_count": 8,
   "metadata": {},
   "outputs": [
    {
     "name": "stdout",
     "output_type": "stream",
     "text": [
      "5\n",
      "3\n",
      "5\n",
      "1\n",
      "2\n"
     ]
    }
   ],
   "source": [
    "import random\n",
    "\n",
    "while True:\n",
    "    input(\"Press any key to roll\")\n",
    "    roll = random.randint(1,6)\n",
    "    print(roll)\n",
    "    \n",
    "    answer = input(\"Would you like to roll again? y/n\")\n",
    "    if answer == \"y\":\n",
    "        roll = random.randint(1,6)\n",
    "        print(roll)\n",
    "    else:\n",
    "        break"
   ]
  },
  {
   "cell_type": "code",
   "execution_count": null,
   "metadata": {},
   "outputs": [
    {
     "name": "stdout",
     "output_type": "stream",
     "text": [
      "2\n",
      "6\n",
      "1\n",
      "3\n",
      "3\n",
      "6\n",
      "3\n",
      "6\n",
      "6\n",
      "2\n",
      "6\n",
      "6\n",
      "2\n",
      "4\n"
     ]
    }
   ],
   "source": [
    "min = 1\n",
    "max = 8\n",
    "import random\n",
    "\n",
    "while True:\n",
    "    input(\"Press any key to roll\")\n",
    "    roll = random.randint(1,8)\n",
    "    print(roll)\n",
    "\n",
    "if roll > max:\n",
    "    max = roll\n",
    "if roll < min:\n",
    "    min = roll\n"
   ]
  }
 ],
 "metadata": {
  "kernelspec": {
   "display_name": "Python 3",
   "language": "python",
   "name": "python3"
  },
  "language_info": {
   "codemirror_mode": {
    "name": "ipython",
    "version": 3
   },
   "file_extension": ".py",
   "mimetype": "text/x-python",
   "name": "python",
   "nbconvert_exporter": "python",
   "pygments_lexer": "ipython3",
   "version": "3.11.0"
  },
  "orig_nbformat": 4,
  "vscode": {
   "interpreter": {
    "hash": "aee8b7b246df8f9039afb4144a1f6fd8d2ca17a180786b69acc140d282b71a49"
   }
  }
 },
 "nbformat": 4,
 "nbformat_minor": 2
}
