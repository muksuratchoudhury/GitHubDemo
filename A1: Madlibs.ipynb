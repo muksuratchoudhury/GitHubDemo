{
 "cells": [
  {
   "cell_type": "code",
   "execution_count": null,
   "metadata": {},
   "outputs": [],
   "source": [
    "## Inspired by Summer Son’s Mad Libs project with Javascript. The program will first prompt the user for a series of inputs a la Mad Libs.\n",
    "# For example, a singular noun, an adjective, etc.\n",
    "# Then, once all the information has been inputted, the program will take that data and place them into a premade story template.\n",
    "# You’ll need prompts for user input, and to then print out the full story at the end with the input included.\n",
    " \n",
    "## Concepts to keep in mind: \n",
    "# ● Strings\n",
    "# ● Variables\n",
    "# ● Concatenation\n",
    "# ● Print"
   ]
  },
  {
   "cell_type": "code",
   "execution_count": 4,
   "metadata": {},
   "outputs": [
    {
     "name": "stdout",
     "output_type": "stream",
     "text": [
      "Mary went to pick up their cat from the vet on Sunday and fell in a wet puddle.\n"
     ]
    }
   ],
   "source": [
    "noun = input(\"Please enter a noun\")\n",
    "pet = input(\"Please enter a pet animal\")\n",
    "day = input(\"Please enter a day\")\n",
    "adj = input(\"Please enter an adjective\")\n",
    "\n",
    "print(noun + \" went to pick up their \" + pet + \" from the vet on \" + day + \" and fell in a \" + adj + \" puddle.\")"
   ]
  }
 ],
 "metadata": {
  "kernelspec": {
   "display_name": "Python 3",
   "language": "python",
   "name": "python3"
  },
  "language_info": {
   "codemirror_mode": {
    "name": "ipython",
    "version": 3
   },
   "file_extension": ".py",
   "mimetype": "text/x-python",
   "name": "python",
   "nbconvert_exporter": "python",
   "pygments_lexer": "ipython3",
   "version": "3.11.0"
  },
  "orig_nbformat": 4,
  "vscode": {
   "interpreter": {
    "hash": "aee8b7b246df8f9039afb4144a1f6fd8d2ca17a180786b69acc140d282b71a49"
   }
  }
 },
 "nbformat": 4,
 "nbformat_minor": 2
}
