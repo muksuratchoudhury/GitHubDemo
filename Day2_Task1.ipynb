{
 "cells": [
  {
   "cell_type": "code",
   "execution_count": 10,
   "metadata": {},
   "outputs": [
    {
     "name": "stdout",
     "output_type": "stream",
     "text": [
      "Hello World\n",
      "Hello World\n",
      "Hello World\n",
      "Hello World\n",
      "Hello World\n",
      "Hello World\n",
      "Hello World\n",
      "Hello World\n",
      "Hello World\n",
      "Hello World\n",
      "Hello World\n",
      "Hello World\n",
      "Hello World\n",
      "Hello World\n",
      "Hello World\n",
      "Hello World\n",
      "Hello World\n",
      "Hello World\n",
      "Hello World\n",
      "Hello World\n"
     ]
    }
   ],
   "source": [
    "variable = \"Hello World\"\n",
    "## use for loop\n",
    "for i in range(20):\n",
    "    print(variable)"
   ]
  },
  {
   "cell_type": "code",
   "execution_count": 19,
   "metadata": {},
   "outputs": [
    {
     "name": "stdout",
     "output_type": "stream",
     "text": [
      "1: Hello\n",
      "2: Hello\n",
      "3: Hello\n",
      "4: Hello\n",
      "5: Hello\n"
     ]
    }
   ],
   "source": [
    "## get the msg from the user\n",
    "message = input(\"Enter a message \")\n",
    "num_of_rep = int(input(\"Enter the number of times to repeat the message\"))\n",
    "## use a for loop\n",
    "for i in range(1, num_of_rep+1):\n",
    "    print(\"{}: {}\".format(i, message))"
   ]
  },
  {
   "cell_type": "code",
   "execution_count": 12,
   "metadata": {},
   "outputs": [
    {
     "name": "stdout",
     "output_type": "stream",
     "text": [
      "1 x 5 = 5\n",
      "2 x 5 = 10\n",
      "3 x 5 = 15\n",
      "4 x 5 = 20\n",
      "5 x 5 = 25\n",
      "6 x 5 = 30\n",
      "7 x 5 = 35\n",
      "8 x 5 = 40\n",
      "9 x 5 = 45\n",
      "10 x 5 = 50\n",
      "11 x 5 = 55\n",
      "12 x 5 = 60\n"
     ]
    }
   ],
   "source": [
    "## program for time table\n",
    "times_table = int(input(\"Enter a time table you want me to display\"))\n",
    "## use for loop (specifying start to end from 1-12, stops at 13)\n",
    "for i in range(1,13):\n",
    "    print(f\"{i} x {times_table} = {i * times_table}\")"
   ]
  },
  {
   "cell_type": "code",
   "execution_count": 20,
   "metadata": {},
   "outputs": [
    {
     "name": "stdout",
     "output_type": "stream",
     "text": [
      "50\n"
     ]
    }
   ],
   "source": [
    "## add 2 numbers, print total (numbers entered are 20, 30)\n",
    "number1 = 20\n",
    "number2 = 30\n",
    "total = number1 + number2\n",
    "print(total)"
   ]
  },
  {
   "cell_type": "code",
   "execution_count": 27,
   "metadata": {},
   "outputs": [
    {
     "name": "stdout",
     "output_type": "stream",
     "text": [
      "1010\n"
     ]
    }
   ],
   "source": [
    "## add 2 numbers, print total (numbers entered are 10, 10) = show mistake of not using int\n",
    "number1 = input(\"Please enter a number\")\n",
    "number2 = input(\"Please enter a second number\")\n",
    "total = number1 + number2\n",
    "print(total)"
   ]
  },
  {
   "cell_type": "code",
   "execution_count": 23,
   "metadata": {},
   "outputs": [
    {
     "name": "stdout",
     "output_type": "stream",
     "text": [
      "20\n"
     ]
    }
   ],
   "source": [
    "## add 2 numbers, print total (numbers entered are 10, 10)\n",
    "number1 = int(input(\"Please enter a number\"))\n",
    "number2 = int(input(\"Please enter a second number\"))\n",
    "total = number1 + number2\n",
    "print(total)"
   ]
  },
  {
   "cell_type": "code",
   "execution_count": 26,
   "metadata": {},
   "outputs": [
    {
     "name": "stdout",
     "output_type": "stream",
     "text": [
      "30\n",
      "10.0\n"
     ]
    }
   ],
   "source": [
    "## add 3 numbers, print total and average (numbers entered are 10, 10, 10)\n",
    "number1 = int(input(\"Please enter the first number\"))\n",
    "number2 = int(input(\"Please enter the second number\"))\n",
    "number3 = int(input(\"Please enter the third number\"))\n",
    "total = number1 + number2 + number3\n",
    "print(total)\n",
    "average = (number1 + number2 + number3)/3\n",
    "print(average)"
   ]
  },
  {
   "cell_type": "code",
   "execution_count": 30,
   "metadata": {},
   "outputs": [],
   "source": [
    "entry = \"\"\n",
    "password = \"letmein\"\n",
    "while entry != password:\n",
    "    entry = input(\"Please enter your password\")"
   ]
  },
  {
   "cell_type": "code",
   "execution_count": 33,
   "metadata": {},
   "outputs": [
    {
     "name": "stdout",
     "output_type": "stream",
     "text": [
      "Correct\n",
      "Correct\n"
     ]
    }
   ],
   "source": [
    "guess = \"\"\n",
    "while guess != \"Rumplestiltskin\":\n",
    "    guess = input(\"Guess my name\")\n",
    "print(\"Correct\")\n",
    "\n",
    "while True:\n",
    "    guess = input(\"Guess my name\")\n",
    "    if guess == \"Rumplestiltskin\":\n",
    "        print(\"Correct\")\n",
    "        break\n",
    "    print(\"Wrong\")\n",
    "\n",
    "while True:\n",
    "    guess = input(\"Guess my name\")\n",
    "    if guess != \"Rumplestiltskin\":\n",
    "        print(\"Wrong\")\n",
    "        continue\n",
    "    print(\"Correct\")\n",
    "    break\n",
    "\n",
    "## this code is 3 codes that do the same thing essentially but a little differently\n",
    "# it won't work when all 3 are ran together in the same kernel\n",
    "# see below:"
   ]
  },
  {
   "cell_type": "code",
   "execution_count": 3,
   "metadata": {},
   "outputs": [
    {
     "name": "stdout",
     "output_type": "stream",
     "text": [
      "Correct\n"
     ]
    }
   ],
   "source": [
    "## this code will keep telling the user to guess my name until the correct name is input\n",
    "guess = \"\"\n",
    "while guess != \"Rumplestiltskin\":\n",
    "    guess = input(\"Guess my name\")\n",
    "print(\"Correct\")\n"
   ]
  },
  {
   "cell_type": "code",
   "execution_count": 4,
   "metadata": {},
   "outputs": [
    {
     "name": "stdout",
     "output_type": "stream",
     "text": [
      "Wrong\n",
      "Wrong\n",
      "Correct\n"
     ]
    }
   ],
   "source": [
    "## this code will keep telling the user to guess my name until the correct name is input, but also says if the name is guessed incorrectly\n",
    "while True:\n",
    "    guess = input(\"Guess my name\")\n",
    "    if guess == \"Rumplestiltskin\":\n",
    "        print(\"Correct\")\n",
    "        break\n",
    "    print(\"Wrong\")"
   ]
  },
  {
   "cell_type": "code",
   "execution_count": 5,
   "metadata": {},
   "outputs": [
    {
     "name": "stdout",
     "output_type": "stream",
     "text": [
      "Wrong\n",
      "Wrong\n",
      "Wrong\n",
      "Wrong\n",
      "Wrong\n",
      "Wrong\n",
      "Correct\n"
     ]
    }
   ],
   "source": [
    "## this code will keep telling the user to guess my name until the correct name is input, but also says if the name is guessed incorrectly\n",
    "while True:\n",
    "    guess = input(\"Guess my name\")\n",
    "    if guess != \"Rumplestiltskin\":\n",
    "        print(\"Wrong\")\n",
    "        continue\n",
    "    print(\"Correct\")\n",
    "    break"
   ]
  },
  {
   "cell_type": "code",
   "execution_count": 11,
   "metadata": {},
   "outputs": [
    {
     "name": "stdout",
     "output_type": "stream",
     "text": [
      "Welcome to DFE Pub!\n",
      "Welcome to the pub, go get yourself a chilled drink!\n"
     ]
    }
   ],
   "source": [
    "## welcome msg\n",
    "print(\"Welcome to DFE Pub!\")\n",
    "\n",
    "## ask the user for their age\n",
    "age = int(input(\"Please enter your age\"))\n",
    "\n",
    "## check the user is qualified to get into the pub\n",
    "if age >= 18:\n",
    "    print(\"Welcome to the pub, go get yourself a chilled drink!\")\n",
    "else:\n",
    "    print(\"Sorry, you are too young, go home, heh\")"
   ]
  },
  {
   "cell_type": "code",
   "execution_count": 18,
   "metadata": {},
   "outputs": [
    {
     "name": "stdout",
     "output_type": "stream",
     "text": [
      "Ride with adult\n"
     ]
    }
   ],
   "source": [
    "## check the user is qualified age with multiple conditions\n",
    "\n",
    "age = int(input(\"Please enter your age\"))\n",
    "if age >= 18:\n",
    "    print(\"Welcome!\")\n",
    "elif age > 13:\n",
    "    print(\"Ride with adult\")\n",
    "else:\n",
    "    print(\"Sorry, you are too young!\")"
   ]
  },
  {
   "cell_type": "code",
   "execution_count": 24,
   "metadata": {},
   "outputs": [],
   "source": [
    "x = 10\n",
    "y = 15\n",
    "z = 20\n",
    "\n",
    "## use the and operator\n",
    "if x < y and y < z:\n",
    "    print(\"Both conditions are true\")\n"
   ]
  },
  {
   "cell_type": "code",
   "execution_count": 26,
   "metadata": {},
   "outputs": [
    {
     "name": "stdout",
     "output_type": "stream",
     "text": [
      "At least one of the conditions are true\n"
     ]
    }
   ],
   "source": [
    "x = 10\n",
    "y = 15\n",
    "z = 10\n",
    "\n",
    "## use the or operator\n",
    "if x < y or y < z:\n",
    "    print(\"At least one of the conditions are true\")"
   ]
  },
  {
   "cell_type": "code",
   "execution_count": 28,
   "metadata": {},
   "outputs": [],
   "source": [
    "x = 10\n",
    "y = 15\n",
    "z = 20\n",
    "\n",
    "## use the not operator, this code is an example, it won't run until mathematically correct\n",
    "if not x < y:\n",
    "    print(\"The conditions is false\")"
   ]
  },
  {
   "cell_type": "code",
   "execution_count": 21,
   "metadata": {},
   "outputs": [
    {
     "name": "stdout",
     "output_type": "stream",
     "text": [
      "x = 1\n",
      "y is something else\n"
     ]
    }
   ],
   "source": [
    "## nested statements are used to check secondary conditions within first condition\n",
    "\n",
    "x = 1 # if you change x or y value the result will let us know what changed\n",
    "y = 1 \n",
    "\n",
    "if x == 1:\n",
    "    if y == 1:\n",
    "        print(\"x = 1\")\n",
    "        print(\"y = 1\")\n",
    "    else:\n",
    "        print(\"x = 1\")\n",
    "        print(\"y is something else\")\n",
    "else:\n",
    "    print(\"x is something else\")\n"
   ]
  },
  {
   "cell_type": "code",
   "execution_count": 38,
   "metadata": {},
   "outputs": [
    {
     "name": "stdout",
     "output_type": "stream",
     "text": [
      "5.0\n",
      "10.0\n"
     ]
    }
   ],
   "source": [
    "## Individual Task 1 - while loop\n",
    "# Ask the user to enter a series of numbers\n",
    "# Create a total by adding each number to the last\n",
    "# Stop adding numbers when the user types zero e.g.\n",
    "# Print out the total at the end\n",
    "\n",
    "total = 0\n",
    "while True:\n",
    "    number = input(\"Please enter a number or enter 0 to stop\")\n",
    "    if number == \"0\":\n",
    "        break\n",
    "    total += float(number)\n",
    "    print(total)\n",
    "\n"
   ]
  },
  {
   "cell_type": "code",
   "execution_count": 94,
   "metadata": {},
   "outputs": [
    {
     "name": "stdout",
     "output_type": "stream",
     "text": [
      "You were born on a leap year\n"
     ]
    }
   ],
   "source": [
    "## Individual Task 2 - if and else, print\n",
    "# Create a new program that will decide if you were born in a leap year\n",
    "# Hint A year is a leap year when it is divisible by 4. \n",
    "# Hint: use the % operator\n",
    "# Ask the user what year they were born\n",
    "# Use % which give you the remainder\n",
    "# Print (‘was born on leap year’\n",
    "\n",
    "year = int(input(\"Please enter your year of birth\"))\n",
    "if((year % 400 == 0)\n",
    "    or\n",
    "        (year % 100 != 0)\n",
    "        and\n",
    "        (year % 4 == 0)):\n",
    "    print(\"You were born on a leap year\")\n",
    "else:\n",
    "    print(\"You were not born on a leap year\")"
   ]
  },
  {
   "cell_type": "code",
   "execution_count": 19,
   "metadata": {},
   "outputs": [
    {
     "name": "stdout",
     "output_type": "stream",
     "text": [
      "Price = £5.00\n"
     ]
    }
   ],
   "source": [
    "## Individual Task 3 - variable input, if, else and elif\n",
    "# Create a till system that will output correct entrance fee\n",
    "# Pensioners and teenagers are allowed to swim for free\n",
    "# Regular Swim is £5\n",
    "# Any adult with a Swim Card gets a 50% discount\n",
    "# HINT Age = Input their age \n",
    "# If age < 20 or age > 65:\n",
    "#    Price = 0\n",
    "# Else:\n",
    "# Input if swimcard\n",
    "# If swimcard == ‘yes’:\n",
    "# price=2.5\n",
    "\n",
    "age = int(input(\"Please enter your age\"))\n",
    "swimcard = input(\"Please enter yes if you have a swimcard\")\n",
    "if age < 20 or age > 65:\n",
    "    print(\"Price = £0.00\")\n",
    "else:\n",
    "    if swimcard == \"yes\":\n",
    "        print(\"Price = £2.50\")\n",
    "    elif swimcard != \"yes\":\n",
    "        print(\"Price = £5.00\")"
   ]
  },
  {
   "cell_type": "code",
   "execution_count": 31,
   "metadata": {},
   "outputs": [
    {
     "name": "stdout",
     "output_type": "stream",
     "text": [
      "10\n",
      "The first number is greater than the second.\n"
     ]
    }
   ],
   "source": [
    "## Individual Task 4 - variables input, if and else\n",
    "## Create a program to output “the first number is greater than the second” only if that is true\n",
    "# Ask for two numbers to be typed in at the keyboard, then display the larger of the two numbers\n",
    "# Ask the user for two numbers using variable = int(input(‘prompt’))\n",
    "# Write a selection statement to compare the two numbers and output “The first number is greater than the second” if that is true\n",
    "# if var1>var2: print\n",
    "\n",
    "number1 = int(input(\"Please enter the first number\"))\n",
    "number2 = int(input(\"Please enter the second number\"))\n",
    "\n",
    "if number1 > number2:\n",
    "    print(number1)\n",
    "    print(\"The first number is greater than the second.\")\n",
    "else:\n",
    "    print(number2)\n",
    "    print(\"The first number is not greater than the second.\")\n",
    "\n",
    "\n"
   ]
  }
 ],
 "metadata": {
  "kernelspec": {
   "display_name": "Python 3",
   "language": "python",
   "name": "python3"
  },
  "language_info": {
   "codemirror_mode": {
    "name": "ipython",
    "version": 3
   },
   "file_extension": ".py",
   "mimetype": "text/x-python",
   "name": "python",
   "nbconvert_exporter": "python",
   "pygments_lexer": "ipython3",
   "version": "3.11.0 (v3.11.0:deaf509e8f, Oct 24 2022, 14:43:23) [Clang 13.0.0 (clang-1300.0.29.30)]"
  },
  "orig_nbformat": 4,
  "vscode": {
   "interpreter": {
    "hash": "aee8b7b246df8f9039afb4144a1f6fd8d2ca17a180786b69acc140d282b71a49"
   }
  }
 },
 "nbformat": 4,
 "nbformat_minor": 2
}
